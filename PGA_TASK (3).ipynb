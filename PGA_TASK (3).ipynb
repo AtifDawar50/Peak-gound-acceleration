{
 "cells": [
  {
   "cell_type": "code",
   "execution_count": null,
   "id": "63060a41-8752-4383-98f8-1d3a0c679923",
   "metadata": {},
   "outputs": [],
   "source": [
    "import numpy as np \n",
    "import pandas as pd\n",
    "from tensorflow import keras\n",
    "from tensorflow.keras import layers\n",
    "import seaborn as sns\n",
    "import tensorflow as tf\n",
    "from sklearn.preprocessing import StandardScaler\n",
    "import plotly.express as px\n",
    "from sklearn.preprocessing import MinMaxScaler\n",
    "from sklearn.preprocessing import StandardScaler\n"
   ]
  },
  {
   "cell_type": "code",
   "execution_count": null,
   "id": "4dd12420-fca1-49f6-8f69-1bfdb8ab561a",
   "metadata": {},
   "outputs": [],
   "source": [
    "#----------------------------------------->>>>\n",
    "df=pd.read_csv(\"PGA.csv\")\n",
    "df.head(10)"
   ]
  },
  {
   "cell_type": "code",
   "execution_count": null,
   "id": "9e8a02c9-8137-488d-8afe-2d386f13d241",
   "metadata": {},
   "outputs": [],
   "source": [
    "print(\"THE Relation of Magnitude with PGA\",df.Magnitude.corr(df.PGA_target))\n",
    "print(\"THE Relation of distance with PGA\",df.distance.corr(df.PGA_target))"
   ]
  },
  {
   "cell_type": "code",
   "execution_count": null,
   "id": "000304db-7243-416c-9cdf-59c4af5800d9",
   "metadata": {},
   "outputs": [],
   "source": [
    "# Scale the magnitude and distance features\n",
    "scaler = MinMaxScaler()\n",
    "df[['Magnitude', 'distance']] = scaler.fit_transform(df[['Magnitude', 'distance']])\n",
    "df"
   ]
  },
  {
   "cell_type": "code",
   "execution_count": null,
   "id": "454ce856-8401-4ebc-b7f7-c32bc6ad115a",
   "metadata": {},
   "outputs": [],
   "source": [
    "df = pd.get_dummies(df, columns=['site_class'],drop_first=False)"
   ]
  },
  {
   "cell_type": "code",
   "execution_count": null,
   "id": "37ea7877-3b45-4fb1-90a8-0545cb881501",
   "metadata": {},
   "outputs": [],
   "source": [
    "df.head()"
   ]
  },
  {
   "cell_type": "code",
   "execution_count": null,
   "id": "39fcf84a-cf62-48bf-9dde-757deb63f771",
   "metadata": {},
   "outputs": [],
   "source": [
    "from sklearn.model_selection import train_test_split\n",
    "\n",
    "# Split the data into training and testing sets\n",
    "X = df[['Magnitude', 'distance','site_class_A','site_class_B','site_class_C']]\n",
    "y = df['PGA_target']\n",
    "X_train, X_test, y_train, y_test = train_test_split(X, y, test_size=0.05, random_state=42)\n"
   ]
  },
  {
   "cell_type": "code",
   "execution_count": null,
   "id": "424b7d5a-61d6-4a13-af6b-5aa8c31bf233",
   "metadata": {},
   "outputs": [],
   "source": [
    "scaler = StandardScaler()\n",
    "X_train_scaled = scaler.fit_transform(X_train)\n",
    "X_test_scaled = scaler.transform(X_test)"
   ]
  },
  {
   "cell_type": "code",
   "execution_count": null,
   "id": "3e5724c7-07e5-4a0b-9c2d-5e5249040819",
   "metadata": {},
   "outputs": [],
   "source": [
    "from tensorflow.keras import layers, regularizers\n",
    "kernel=regularizers.l2(0.01)\n",
    "model = tf.keras.Sequential([\n",
    "    tf.keras.layers.InputLayer(input_shape=(5,)),\n",
    "    tf.keras.layers.Dense(2, activation='tanh',kernel_regularizer=kernel),\n",
    "    tf.keras.layers.Dense(1, activation='linear')\n",
    "])\n"
   ]
  },
  {
   "cell_type": "code",
   "execution_count": null,
   "id": "1d0c2b4e-ae39-455f-9dc9-77726cadf494",
   "metadata": {},
   "outputs": [],
   "source": [
    "model.summary()"
   ]
  },
  {
   "cell_type": "code",
   "execution_count": null,
   "id": "c9f35937-df53-44d6-8e6b-e040902dea3c",
   "metadata": {},
   "outputs": [],
   "source": [
    "optimizer_01=tf.keras.optimizers.SGD(learning_rate=0.001,name='SGD')\n",
    "optimizer_02=tf.keras.optimizers.legacy.Adam(lr=0.001,name='Adam')\n",
    "\n",
    "model.compile(\n",
    "    \n",
    "            optimizer=optimizer_02,\n",
    "            loss= tf.keras.losses.MeanSquaredError(),\n",
    "            metrics=['accuracy'],\n",
    "    \n",
    "              \n",
    "             \n",
    "             )\n",
    "\n"
   ]
  },
  {
   "cell_type": "code",
   "execution_count": null,
   "id": "91a0d5ab-b5b3-4388-bb09-921569e99021",
   "metadata": {},
   "outputs": [],
   "source": []
  },
  {
   "cell_type": "code",
   "execution_count": null,
   "id": "a6e2ee3b-9a86-4431-958c-462a5b274c4c",
   "metadata": {},
   "outputs": [],
   "source": [
    "from keras.callbacks import EarlyStopping\n",
    "\n",
    "# Define EarlyStopping callback\n",
    "early_stopping = EarlyStopping(monitor='val_loss', patience=5)\n",
    "\n",
    "\n",
    "#y_train = y_train.astype('float32')\n",
    "\n",
    "model.fit(X_train_scaled,y_train,\n",
    "          batch_size=6,\n",
    "          epochs=30,\n",
    "          #validation_split=0.2,\n",
    "          shuffle=True,\n",
    "          #callbacks=[early_stopping],\n",
    "          verbose=1,\n",
    ")\n"
   ]
  },
  {
   "cell_type": "code",
   "execution_count": null,
   "id": "c80851c8-1abf-4945-a3d4-3eaab736fbe6",
   "metadata": {},
   "outputs": [],
   "source": []
  },
  {
   "cell_type": "code",
   "execution_count": null,
   "id": "e1d9dcfb-54c0-4e83-bc50-b86400f502bb",
   "metadata": {},
   "outputs": [],
   "source": [
    "new_input_data1 = [[7.6, 36]]\n",
    "predicted_log_pga1 = model.predict(X_test_scaled)\n",
    "print (\"The prediction of test \\n \",X_test_scaled,\" \\n \\n  And the predicted value is \\n \",predicted_log_pga1)\n"
   ]
  },
  {
   "cell_type": "code",
   "execution_count": null,
   "id": "deb5b817-13c0-4cd2-b1f9-61e6ddb7dcaa",
   "metadata": {},
   "outputs": [],
   "source": [
    "from sklearn.preprocessing import MinMaxScaler\n",
    "\n",
    "scaler = MinMaxScaler()\n",
    "\n",
    "# Assuming you have the y_test as a pandas Series object\n",
    "y_test_array = y_test.values.reshape(-1, 1)  # Convert y_test to a NumPy array and reshape it\n",
    "\n",
    "y_test_normalized = scaler.fit_transform(y_test_array)\n"
   ]
  },
  {
   "cell_type": "code",
   "execution_count": null,
   "id": "583ae7de-4313-4f67-9ec9-95ddfc1f8bc9",
   "metadata": {},
   "outputs": [],
   "source": [
    "import matplotlib.pyplot as plt\n",
    "\n",
    "# Assuming you have the predicted values 'predicted_log_pga1' and the corresponding test labels 'y_test'\n",
    "predicted_log_pga1 = predicted_log_pga1.flatten()  # Flatten the predicted values to match the shape of y_test\n",
    "\n",
    "plt.plot(y_test_normalized, \"o\", label=\" y _test  Labels\")\n",
    "plt.plot(predicted_log_pga1,\"o\", label=\"Predicted Values on y_test set \")\n",
    "plt.xlabel(\" Original Target_PGA in test set \")\n",
    "plt.ylabel(\"Observed or predicted Target_PGA for the test set\")\n",
    "plt.legend()\n",
    "plt.show()\n",
    "plt.savefig(\"PGA_Prediction.jpg\")\n"
   ]
  },
  {
   "cell_type": "code",
   "execution_count": null,
   "id": "c3a993e4-de4f-4607-a2ff-c0772fcece4a",
   "metadata": {},
   "outputs": [],
   "source": [
    "\n",
    "predicted_log_pga2 = model.predict(X_train_scaled)\n"
   ]
  },
  {
   "cell_type": "code",
   "execution_count": null,
   "id": "03f8c51c-96e5-4dc5-b882-176208d2e865",
   "metadata": {},
   "outputs": [],
   "source": [
    "from sklearn.preprocessing import MinMaxScaler\n",
    "\n",
    "scaler = MinMaxScaler()\n",
    "\n",
    "# Assuming you have the y_test as a pandas Series object\n",
    "y_train_array = y_train.values.reshape(-1, 1)  # Convert y_test to a NumPy array and reshape it\n",
    "\n",
    "y_train_normalized = scaler.fit_transform(y_train_array)"
   ]
  },
  {
   "cell_type": "code",
   "execution_count": null,
   "id": "f35ea191-00f5-4081-bc8b-2551483d821e",
   "metadata": {},
   "outputs": [],
   "source": [
    "import matplotlib.pyplot as plt\n",
    "\n",
    "# Assuming you have the predicted values 'predicted_log_pga1' and the corresponding test labels 'y_test'\n",
    "predicted_log_pga2 = predicted_log_pga2.flatten()  # Flatten the predicted values to match the shape of y_test\n",
    "\n",
    "plt.plot(y_train_normalized, \"o\", label=\" y _test  Labels\")\n",
    "plt.plot(predicted_log_pga2,\"o\", label=\"Predicted Values on y_train set \")\n",
    "plt.xlabel(\" Original Target_PGA in train set \")\n",
    "plt.ylabel(\"Observed or predicted Target_PGA for the train set\")\n",
    "plt.legend()\n",
    "plt.show()\n"
   ]
  },
  {
   "cell_type": "code",
   "execution_count": null,
   "id": "622de738-893d-4709-9ded-a74814fa02b4",
   "metadata": {},
   "outputs": [],
   "source": [
    "# Assuming you have trained your model and have the X_test and y_test data prepared\n",
    "\n",
    "# Evaluate the model on the test set\n",
    "loss, accuracy, mse = model.evaluate(X_test_scaled, y_test)\n",
    "\n",
    "# Print the accuracy\n",
    "print(\"Test Accuracy:\", accuracy)\n"
   ]
  }
 ],
 "metadata": {
  "kernelspec": {
   "display_name": "Python 3 (ipykernel)",
   "language": "python",
   "name": "python3"
  },
  "language_info": {
   "codemirror_mode": {
    "name": "ipython",
    "version": 3
   },
   "file_extension": ".py",
   "mimetype": "text/x-python",
   "name": "python",
   "nbconvert_exporter": "python",
   "pygments_lexer": "ipython3",
   "version": "3.9.13"
  }
 },
 "nbformat": 4,
 "nbformat_minor": 5
}
